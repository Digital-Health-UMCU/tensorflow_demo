{
  "nbformat": 4,
  "nbformat_minor": 0,
  "metadata": {
    "colab": {
      "name": "day1.ipynb",
      "provenance": [],
      "collapsed_sections": [],
      "toc_visible": true
    },
    "kernelspec": {
      "display_name": "Python 3 (ipykernel)",
      "language": "python",
      "name": "python3"
    },
    "language_info": {
      "codemirror_mode": {
        "name": "ipython",
        "version": 3
      },
      "file_extension": ".py",
      "mimetype": "text/x-python",
      "name": "python",
      "nbconvert_exporter": "python",
      "pygments_lexer": "ipython3",
      "version": "3.9.5"
    },
    "accelerator": "GPU"
  },
  "cells": [
    {
      "cell_type": "markdown",
      "metadata": {
        "id": "3wF5wszaj97Y"
      },
      "source": [
        "# Computer Vision Day 1 - Dense networks\n",
        "We will train a dense network to classify CIFAR10 images. This code was inspired by the [TensorFlow 2 quickstart for beginners](https://www.tensorflow.org/tutorials/quickstart/beginner).\n",
        "\n",
        "### How to use it?\n",
        "The easiest way is to use Google Colab\n",
        "* Go to https://colab.research.google.com\n",
        "* Select `File > open notebook` and upload the notebook\n",
        "* If you want to use a GPU go to `Runtime > Change runtime type`\n",
        "* Start!\n",
        "\n",
        "Or just press the button below and get started!"
      ]
    },
    {
      "cell_type": "markdown",
      "metadata": {
        "id": "Ardu4mxcmJgk"
      },
      "source": [
        "<table class=\"tfo-notebook-buttons\" align=\"left\">\n",
        "  <td>\n",
        "    <a target=\"_blank\" href=\"https://colab.research.google.com/github/Digital-Health-UMCU/tensorflow_demo/1_intro.ipynb\"><img src=\"https://www.tensorflow.org/images/colab_logo_32px.png\" />Run in Google Colab</a>\n",
        "  </td>\n",
        "  <td>\n",
        "    <a target=\"_blank\" href=\"https://github.com/Digital-Health-UMCU/tensorflow_demo/1_intro.ipynb\"><img src=\"https://www.tensorflow.org/images/GitHub-Mark-32px.png\" />View source on GitHub</a>\n",
        "  </td>\n",
        "</table>"
      ]
    },
    {
      "cell_type": "markdown",
      "metadata": {
        "id": "04QgGZc9bF5D"
      },
      "source": [
        "This short introduction uses [Keras](https://www.tensorflow.org/guide/keras/overview) to:\n",
        "\n",
        "1. Build a neural network that classifies images.\n",
        "2. Train this neural network.\n",
        "3. And, finally, evaluate the accuracy of the model."
      ]
    },
    {
      "cell_type": "code",
      "metadata": {
        "id": "0trJmd6DjqBZ"
      },
      "source": [
        "import tensorflow as tf\n",
        "print(f\"TensorFlow version: {tf.__version__}\")"
      ],
      "execution_count": null,
      "outputs": []
    },
    {
      "cell_type": "markdown",
      "metadata": {
        "id": "7NAbSZiaoJ4z"
      },
      "source": [
        "Load and prepare the [cifar10](https://www.cs.toronto.edu/~kriz/cifar.html) dataset. Convert the samples from integers to floating-point numbers.\n",
        "\n",
        "**Questions**\n",
        "* Why do we divide by 255?\n",
        "* Can you explain the shape?"
      ]
    },
    {
      "cell_type": "code",
      "metadata": {
        "id": "7FP5258xjs-v"
      },
      "source": [
        "cifar10 = tf.keras.datasets.cifar10\n",
        "\n",
        "(x_train, y_train), (x_test, y_test) = cifar10.load_data()\n",
        "x_train, x_test = x_train / 255.0, x_test / 255.0\n",
        "print(x_train.shape)"
      ],
      "execution_count": null,
      "outputs": []
    },
    {
      "cell_type": "markdown",
      "metadata": {
        "id": "RcondtMExo1i"
      },
      "source": [
        "## Create a model\n",
        "It is easiest to use a softmax activation in the last layer for multiclass classification problems. However, while using the softmax activition makes the model output more directly interpretable, this approach is discouraged as it's impossible to provide an exact and numerically stable loss calculation for all models whenusing a softmax output. \n",
        "Alternatively you can use a linear activation in the last layer and then apply `tf.nn.softmax(...)` on the predictions."
      ]
    },
    {
      "cell_type": "code",
      "metadata": {
        "id": "e5_LivSMxdXR"
      },
      "source": [
        "model = tf.keras.models.Sequential([\n",
        "  ...\n",
        "])"
      ],
      "execution_count": null,
      "outputs": []
    },
    {
      "cell_type": "code",
      "metadata": {
        "id": "h3IKyzTCDNGo",
        "cellView": "form"
      },
      "source": [
        "#@title Example Model\n",
        "model = tf.keras.models.Sequential([\n",
        "  tf.keras.layers.Flatten(input_shape=(32, 32, 3)),\n",
        "  tf.keras.layers.Dense(128, activation='relu'),\n",
        "  tf.keras.layers.Dropout(0.2),\n",
        "  tf.keras.layers.Dense(32, activation='relu'),\n",
        "  tf.keras.layers.Dropout(0.2),\n",
        "  tf.keras.layers.Dense(10, activation='softmax')\n",
        "])\n",
        "\n",
        "# # Example convolutional neural network.\n",
        "# model = tf.keras.models.Sequential([\n",
        "#   tf.keras.layers.InputLayer(input_shape=(32,32,3)),\n",
        "#   tf.keras.layers.Conv2D(16, (3, 3), activation='relu'),\n",
        "#   tf.keras.layers.MaxPooling2D((2,2)),\n",
        "#   tf.keras.layers.Dropout(0.2),\n",
        "#   tf.keras.layers.Conv2D(32, (3, 3), activation='relu'),\n",
        "#   tf.keras.layers.MaxPooling2D((2,2)),\n",
        "#   tf.keras.layers.Dropout(0.2),\n",
        "#   tf.keras.layers.Conv2D(64, (3, 3), activation='relu'),\n",
        "#   tf.keras.layers.MaxPooling2D((2,2)),\n",
        "#   tf.keras.layers.Dropout(0.2),\n",
        "#   tf.keras.layers.GlobalAveragePooling2D(),\n",
        "#   tf.keras.layers.Dense(10, activation='softmax')\n",
        "# ])"
      ],
      "execution_count": 106,
      "outputs": []
    },
    {
      "cell_type": "markdown",
      "metadata": {
        "id": "Ktu7M4HKJ-e8"
      },
      "source": [
        "Make some example predictions"
      ]
    },
    {
      "cell_type": "code",
      "metadata": {
        "id": "OeOrNdnkEEcR"
      },
      "source": [
        "predictions = model(x_train[:1]).numpy()\n",
        "predictions"
      ],
      "execution_count": null,
      "outputs": []
    },
    {
      "cell_type": "markdown",
      "metadata": {
        "id": "hQyugpgRIyrA"
      },
      "source": [
        "The `losses.SparseCategoricalCrossentropy` loss takes a vector of logits and a `True` index and returns a scalar loss for each example."
      ]
    },
    {
      "cell_type": "code",
      "metadata": {
        "id": "RSkzdv8MD0tT"
      },
      "source": [
        "loss_fn = tf.keras.losses.SparseCategoricalCrossentropy(from_logits=False)"
      ],
      "execution_count": null,
      "outputs": []
    },
    {
      "cell_type": "markdown",
      "metadata": {
        "id": "SfR4MsSDU880"
      },
      "source": [
        "This loss is equal to the negative log probability of the true class:\n",
        "It is zero if the model is sure of the correct class.\n",
        "\n",
        "This untrained model gives probabilities close to random (1/10 for each class), so the initial loss should be close to `-tf.math.log(1/10) ~= 2.3`."
      ]
    },
    {
      "cell_type": "code",
      "metadata": {
        "id": "4FNP-1n4YrkD"
      },
      "source": [
        "model.compile(optimizer='adam',\n",
        "              loss=loss_fn,\n",
        "              metrics=['accuracy'])\n",
        "model.summary()"
      ],
      "execution_count": null,
      "outputs": []
    },
    {
      "cell_type": "code",
      "metadata": {
        "id": "NJWqEVrrJ7ZB"
      },
      "source": [
        "print(f\"Loss on the train set: {loss_fn(y_train[:1], predictions).numpy():.2f}\")\n",
        "print(f\"Accuracy on the train set: {model.evaluate(x_train,  y_train, verbose=0)[1]:.2f}\")\n"
      ],
      "execution_count": null,
      "outputs": []
    },
    {
      "cell_type": "markdown",
      "metadata": {
        "id": "ix4mEL65on-w"
      },
      "source": [
        "Next, fit the model parameters using the `model.fit` method."
      ]
    },
    {
      "cell_type": "code",
      "metadata": {
        "id": "y7suUbJXVLqP"
      },
      "source": [
        "model.fit(..., \n",
        "          ..., \n",
        "          epochs=...\n",
        "          )"
      ],
      "execution_count": null,
      "outputs": []
    },
    {
      "cell_type": "code",
      "metadata": {
        "cellView": "form",
        "id": "hSepVN40ZiKB"
      },
      "source": [
        "#@title Example answer\n",
        "# model.fit(x_train, y_train, \n",
        "#           epochs=20, \n",
        "#           validation_split=0.2,\n",
        "#           callbacks=[tf.keras.callbacks.EarlyStopping(monitor='val_loss', patience=1),])"
      ],
      "execution_count": 105,
      "outputs": []
    },
    {
      "cell_type": "markdown",
      "metadata": {
        "id": "4mDAAPFqVVgn"
      },
      "source": [
        "The `Model.evaluate` method checks the models performance."
      ]
    },
    {
      "cell_type": "code",
      "metadata": {
        "id": "F7dTAzgHDUh7"
      },
      "source": [
        "model.evaluate(x_test,  y_test, verbose=2)"
      ],
      "execution_count": null,
      "outputs": []
    },
    {
      "cell_type": "markdown",
      "metadata": {
        "id": "9xmxoNTLZ46g"
      },
      "source": [
        "## Look at some predictions\n",
        "Class names for cifar10 can be found [here](https://www.tensorflow.org/api_docs/python/tf/keras/datasets/cifar10/load_data)."
      ]
    },
    {
      "cell_type": "code",
      "metadata": {
        "id": "rHGmB48lYPwd"
      },
      "source": [
        "import matplotlib.pyplot as plt\n",
        "from sklearn.metrics import confusion_matrix, ConfusionMatrixDisplay"
      ],
      "execution_count": null,
      "outputs": []
    },
    {
      "cell_type": "code",
      "metadata": {
        "id": "VkMLyx5CaILn"
      },
      "source": [
        "# Get predictions\n",
        "preds_test = model.predict(x_test).argmax(axis=1)\n",
        "\n",
        "# define class names\n",
        "class_names = {0: 'airplane',\n",
        "               1:\t'automobile',\n",
        "               2:\t'bird',\n",
        "               3:\t'cat',\n",
        "               4:\t'deer',\n",
        "               5:\t'dog',\n",
        "               6:\t'frog',\n",
        "               7:\t'horse',\n",
        "               8:\t'ship',\n",
        "               9:\t'truck'}"
      ],
      "execution_count": null,
      "outputs": []
    },
    {
      "cell_type": "markdown",
      "metadata": {
        "id": "0afOFjKacJKb"
      },
      "source": [
        "Look at some examples and plot the confusion matrix."
      ]
    },
    {
      "cell_type": "code",
      "metadata": {
        "id": "gVdrSLTRZ-m5"
      },
      "source": [
        "index = 16\n",
        "plt.title(f\"Prediction: {class_names[preds_test[index]]}; True label: {class_names[y_test.ravel()[index]]}\")\n",
        "plt.imshow(x_test[index])"
      ],
      "execution_count": null,
      "outputs": []
    },
    {
      "cell_type": "code",
      "metadata": {
        "id": "zJsl0kK2auF6"
      },
      "source": [
        "keys = [k for k in class_names.keys()]\n",
        "names = [v for v in class_names.values()]\n",
        "cm = confusion_matrix(y_test.ravel(), preds_test, labels = keys)\n",
        "\n",
        "plt.figure(figsize=(10, 10))\n",
        "ax = plt.subplot()\n",
        "ConfusionMatrixDisplay(cm, display_labels=names).plot(values_format='d', ax=ax)\n",
        "plt.show()"
      ],
      "execution_count": null,
      "outputs": []
    }
  ]
}