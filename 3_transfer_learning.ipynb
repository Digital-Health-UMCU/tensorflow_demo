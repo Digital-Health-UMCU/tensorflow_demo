{
  "nbformat": 4,
  "nbformat_minor": 0,
  "metadata": {
    "colab": {
      "name": "3_transfer_learning.ipynb",
      "provenance": [],
      "collapsed_sections": [],
      "toc_visible": true
    },
    "kernelspec": {
      "display_name": "Python 3 (ipykernel)",
      "language": "python",
      "name": "python3"
    },
    "language_info": {
      "codemirror_mode": {
        "name": "ipython",
        "version": 3
      },
      "file_extension": ".py",
      "mimetype": "text/x-python",
      "name": "python",
      "nbconvert_exporter": "python",
      "pygments_lexer": "ipython3",
      "version": "3.9.5"
    },
    "accelerator": "GPU"
  },
  "cells": [
    {
      "cell_type": "markdown",
      "metadata": {
        "id": "3wF5wszaj97Y"
      },
      "source": [
        "# Computer Vision Day 3 - Transfer Learning\n",
        "This notebook is similar to the [notebook for Day 1](https://github.com/Digital-Health-UMCU/tensorflow_demo/blob/main/1_intro.ipynb), except that this time we will train a CNN on CIFAR10 images.\n",
        "\n",
        "### How to use it?\n",
        "Just press the button below and get started!"
      ]
    },
    {
      "cell_type": "markdown",
      "metadata": {
        "id": "Ardu4mxcmJgk"
      },
      "source": [
        "<table class=\"tfo-notebook-buttons\" align=\"left\">\n",
        "  <td>\n",
        "    <a target=\"_blank\" href=\"https://colab.research.google.com/github/Digital-Health-UMCU/tensorflow_demo/blob/main/3_transfer_learning.ipynb\"><img src=\"https://www.tensorflow.org/images/colab_logo_32px.png\" />Run in Google Colab</a>\n",
        "  </td>\n",
        "  <td>\n",
        "    <a target=\"_blank\" href=\"https://github.com/Digital-Health-UMCU/tensorflow_demo/blob/main/3_transfer_learning.ipynb\"><img src=\"https://www.tensorflow.org/images/GitHub-Mark-32px.png\" />View source on GitHub</a>\n",
        "  </td>\n",
        "</table>"
      ]
    },
    {
      "cell_type": "code",
      "metadata": {
        "id": "0trJmd6DjqBZ"
      },
      "source": [
        "import tensorflow as tf\n",
        "print(f\"TensorFlow version: {tf.__version__}\")\n",
        "print(f\"GPU (empty list = no GPU available): {tf.config.list_physical_devices('GPU')}\")"
      ],
      "execution_count": null,
      "outputs": []
    },
    {
      "cell_type": "markdown",
      "metadata": {
        "id": "7NAbSZiaoJ4z"
      },
      "source": [
        "## Load dataset\n",
        "Load and prepare the [cifar10](https://www.cs.toronto.edu/~kriz/cifar.html) dataset. Convert the samples from integers to floating-point numbers."
      ]
    },
    {
      "cell_type": "code",
      "metadata": {
        "id": "7FP5258xjs-v"
      },
      "source": [
        "cifar10 = tf.keras.datasets.cifar10\n",
        "\n",
        "(x_train, y_train), (x_test, y_test) = cifar10.load_data()\n",
        "x_train, x_test = x_train / 255.0, x_test / 255.0\n",
        "print(x_train.shape)"
      ],
      "execution_count": null,
      "outputs": []
    },
    {
      "cell_type": "markdown",
      "metadata": {
        "id": "RcondtMExo1i"
      },
      "source": [
        "## Create a model\n",
        "For available layers in Keras see [here](https://www.tensorflow.org/api_docs/python/tf/keras/layers).\n",
        "It is easiest to use a softmax activation in the last layer for multiclass classification problems. However, while using the softmax activition makes the model output more directly interpretable, this approach is discouraged as it's impossible to provide an exact and numerically stable loss calculation for all models whenusing a softmax output. \n",
        "Alternatively you can use a linear activation in the last layer and then apply `tf.nn.softmax(...)` on the predictions.\n",
        "\n",
        "### Pre-trained models\n",
        "For this you can checkout [TensorFlow Hub](https://www.tensorflow.org/hub) or use `tf.keras.applications`.\n",
        "\n",
        "Don't forget to freeze the layers and check that explicitly"
      ]
    },
    {
      "cell_type": "code",
      "metadata": {
        "id": "e5_LivSMxdXR",
        "cellView": "form"
      },
      "source": [
        "#@title\n",
        "# Create a CNN\n",
        "model = tf.keras.models.Sequential([\n",
        "  ...\n",
        "])"
      ],
      "execution_count": null,
      "outputs": []
    },
    {
      "cell_type": "code",
      "metadata": {
        "id": "h3IKyzTCDNGo"
      },
      "source": [
        "#@title Example Model\n",
        "# base_model = tf.keras.applications.VGG16(\n",
        "#     include_top=False,\n",
        "#     weights=\"imagenet\",\n",
        "#     input_shape=(224, 224, 3))\n",
        "\n",
        "# for layer in base_model.layers[:-2]:\n",
        "#   layer.trainable = False\n",
        "\n",
        "# # Example convolutional neural network.\n",
        "# model = tf.keras.models.Sequential([\n",
        "#   tf.keras.layers.InputLayer(input_shape=(32,32,3)),\n",
        "#   tf.keras.layers.Resizing(\n",
        "#     224, 224, \n",
        "#     interpolation=\"bilinear\", \n",
        "#     crop_to_aspect_ratio=False),\n",
        "#   base_model,\n",
        "#   tf.keras.layers.Conv2D(32, \n",
        "#                          kernel_size=(1,1), \n",
        "#                          activation='relu',\n",
        "#                          padding='same'),\n",
        "#   tf.keras.layers.Flatten(),\n",
        "#   tf.keras.layers.Dense(10, activation='linear')\n",
        "# ])\n",
        "\n",
        "# for layer in model.layers:\n",
        "#   if layer.name == 'vgg16':\n",
        "#     for l in layer.layers:\n",
        "#       print(f\"{l}: {l.trainable}\")\n",
        "#   else:\n",
        "#     print(f\"{layer}: {layer.trainable}\")\n",
        "    "
      ],
      "execution_count": null,
      "outputs": []
    },
    {
      "cell_type": "markdown",
      "metadata": {
        "id": "hQyugpgRIyrA"
      },
      "source": [
        "The `losses.SparseCategoricalCrossentropy` loss takes a vector of logits and a `True` index and returns a scalar loss for each example."
      ]
    },
    {
      "cell_type": "code",
      "metadata": {
        "id": "RSkzdv8MD0tT"
      },
      "source": [
        "loss_fn = tf.keras.losses.SparseCategoricalCrossentropy(from_logits=True)"
      ],
      "execution_count": null,
      "outputs": []
    },
    {
      "cell_type": "code",
      "metadata": {
        "id": "-0NEWwy3oryp"
      },
      "source": [
        "# Transfer model\n",
        "model.compile(optimizer=tf.keras.optimizers.Adam(learning_rate=1e-4),\n",
        "              loss=loss_fn,\n",
        "              # optimizer = \n",
        "              metrics=['accuracy'])\n",
        "model.summary()"
      ],
      "execution_count": null,
      "outputs": []
    },
    {
      "cell_type": "markdown",
      "metadata": {
        "id": "ix4mEL65on-w"
      },
      "source": [
        "Next, fit the model parameters using the `model.fit` method (this will take a few minutes per epoch, interrupting early won't hurt your model)."
      ]
    },
    {
      "cell_type": "code",
      "metadata": {
        "id": "y7suUbJXVLqP"
      },
      "source": [
        "# Fit the CNN\n",
        "model.fit(..., \n",
        "          ..., \n",
        "          epochs=...\n",
        "          )"
      ],
      "execution_count": null,
      "outputs": []
    },
    {
      "cell_type": "code",
      "metadata": {
        "id": "td90J62D5UGT",
        "collapsed": true,
        "cellView": "form"
      },
      "source": [
        "#@title Example Fit\n",
        "\n",
        "# model.fit(x_train, y_train, \n",
        "#           epochs=20, \n",
        "#           validation_split=0.2,\n",
        "#           callbacks=[tf.keras.callbacks.ReduceLROnPlateau(monitor='val_loss', \n",
        "#                                                           factor=0.1, \n",
        "#                                                           patience=2),\n",
        "#                     tf.keras.callbacks.EarlyStopping(monitor='val_loss', \n",
        "#                                                       patience=4,\n",
        "#                                                       restore_best_weights=True),\n",
        "#                     ])"
      ],
      "execution_count": null,
      "outputs": []
    },
    {
      "cell_type": "markdown",
      "metadata": {
        "id": "4mDAAPFqVVgn"
      },
      "source": [
        "The `Model.evaluate` method checks the models performance."
      ]
    },
    {
      "cell_type": "code",
      "metadata": {
        "id": "TS1IKn6H3SBz"
      },
      "source": [
        "print(f\"Transfer model: {model.evaluate(x_test,  y_test, verbose=2)}\")"
      ],
      "execution_count": null,
      "outputs": []
    },
    {
      "cell_type": "markdown",
      "metadata": {
        "id": "9xmxoNTLZ46g"
      },
      "source": [
        "## Look at some predictions\n",
        "Class names for cifar10 can be found [here](https://www.tensorflow.org/api_docs/python/tf/keras/datasets/cifar10/load_data)."
      ]
    },
    {
      "cell_type": "code",
      "metadata": {
        "id": "rHGmB48lYPwd"
      },
      "source": [
        "import matplotlib.pyplot as plt\n",
        "from sklearn.metrics import confusion_matrix, ConfusionMatrixDisplay"
      ],
      "execution_count": null,
      "outputs": []
    },
    {
      "cell_type": "code",
      "metadata": {
        "id": "VkMLyx5CaILn"
      },
      "source": [
        "# Get predictions\n",
        "preds_test = model.predict(x_test).argmax(axis=1)\n",
        "\n",
        "# define class names\n",
        "class_names = {0: 'airplane',\n",
        "               1:\t'automobile',\n",
        "               2:\t'bird',\n",
        "               3:\t'cat',\n",
        "               4:\t'deer',\n",
        "               5:\t'dog',\n",
        "               6:\t'frog',\n",
        "               7:\t'horse',\n",
        "               8:\t'ship',\n",
        "               9:\t'truck'}"
      ],
      "execution_count": null,
      "outputs": []
    },
    {
      "cell_type": "markdown",
      "metadata": {
        "id": "0afOFjKacJKb"
      },
      "source": [
        "Look at some examples and plot the confusion matrix."
      ]
    },
    {
      "cell_type": "code",
      "metadata": {
        "id": "gVdrSLTRZ-m5"
      },
      "source": [
        "index = 9\n",
        "plt.title(f\"Prediction: {class_names[preds_test[index]]}; True label: {class_names[y_test.ravel()[index]]}\")\n",
        "plt.imshow(x_test[index])"
      ],
      "execution_count": null,
      "outputs": []
    },
    {
      "cell_type": "code",
      "metadata": {
        "id": "zJsl0kK2auF6"
      },
      "source": [
        "keys = [k for k in class_names.keys()]\n",
        "names = [v for v in class_names.values()]\n",
        "cm = confusion_matrix(y_test.ravel(), preds_test, labels = keys)\n",
        "\n",
        "plt.figure(figsize=(10, 10))\n",
        "ax = plt.subplot()\n",
        "ConfusionMatrixDisplay(cm, display_labels=names).plot(values_format='d', ax=ax)\n",
        "plt.show()"
      ],
      "execution_count": null,
      "outputs": []
    },
    {
      "cell_type": "code",
      "metadata": {
        "id": "UEtG1WJn525X"
      },
      "source": [
        ""
      ],
      "execution_count": null,
      "outputs": []
    },
    {
      "cell_type": "markdown",
      "metadata": {
        "id": "UfVIybRSt6DR"
      },
      "source": [
        "## Additional exercises\n",
        "Note: a validation loss of about ~0.80 is doable with this dataset and a pre-trained model.\n",
        "* Use the pre-trained model as a feature extractor to create X-train and only do forward propagation in the last layers. Is it faster?\n",
        "* Fine-tune all layers of the pretrained model\n",
        "* Use fewer layers of the pretrained model"
      ]
    },
    {
      "cell_type": "code",
      "metadata": {
        "id": "EcY4bRmVuFOA"
      },
      "source": [
        ""
      ],
      "execution_count": null,
      "outputs": []
    }
  ]
}